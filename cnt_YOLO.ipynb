{
 "cells": [
  {
   "cell_type": "code",
   "execution_count": 6,
   "metadata": {},
   "outputs": [
    {
     "name": "stderr",
     "output_type": "stream",
     "text": [
      "\n",
      "0: 384x640 18 persons, 404.9ms\n",
      "Speed: 7.9ms preprocess, 404.9ms inference, 0.8ms postprocess per image at shape (1, 3, 384, 640)\n"
     ]
    },
    {
     "data": {
      "text/plain": [
       "True"
      ]
     },
     "execution_count": 6,
     "metadata": {},
     "output_type": "execute_result"
    }
   ],
   "source": [
    "import cv2\n",
    "from ultralytics import YOLO\n",
    "import math\n",
    "\n",
    "# YOLO 모델을 로드합니다.\n",
    "model = YOLO(\"yolo-Weights/yolov8x.pt\")\n",
    "\n",
    "# 이미지 파일을 불러옵니다.\n",
    "img = cv2.imread(\"figure4-1.jpeg\")  # 이미지 파일 경로를 입력하세요.\n",
    "\n",
    "# 클래스 이름을 정의합니다.\n",
    "classNames = [\"person\"]\n",
    "\n",
    "# 'person' 클래스의 인덱스를 찾습니다.\n",
    "person_index = classNames.index('person')\n",
    "\n",
    "results = model(img)\n",
    "\n",
    "# 탐지된 사람의 수를 추적합니다.\n",
    "person_count = 0\n",
    "\n",
    "for r in results:\n",
    "    boxes = r.boxes\n",
    "\n",
    "    for box in boxes:\n",
    "        # 클래스 이름\n",
    "        cls = int(box.cls[0])\n",
    "\n",
    "        if cls == person_index:  # 'person' 클래스만 확인\n",
    "            person_count += 1\n",
    "\n",
    "            # 바운딩 박스\n",
    "            x1, y1, x2, y2 = box.xyxy[0]\n",
    "            x1, y1, x2, y2 = int(x1), int(y1), int(x2), int(y2)\n",
    "\n",
    "            # 중심점 계산\n",
    "            center_x = int((x1 + x2) / 2)\n",
    "            center_y = int((y1 + y2) / 2)\n",
    "\n",
    "            # 바운딩 박스와 중심점을 그립니다.\n",
    "            cv2.rectangle(img, (x1, y1), (x2, y2), (255, 0, 255), 3)\n",
    "            cv2.circle(img, (center_x, center_y), 3, (0, 0, 255), -1)\n",
    "\n",
    "# 화면에 탐지된 사람 수를 표시합니다.\n",
    "cv2.putText(img, f\"Detected Persons: {person_count}\", (50, 50), cv2.FONT_HERSHEY_SIMPLEX, 1, (0, 255, 0), 2)\n",
    "\n",
    "# 결과 이미지를 보여줍니다.\n",
    "cv2.imshow('Image', img)\n",
    "\n",
    "# 결과 이미지를 특정 경로에 저장합니다.\n",
    "cv2.imwrite(\"figure6-1.jpeg\", img)  # 저장할 경로와 파일명을 지정하세요.\n",
    "\n",
    "# cv2.waitKey(0)\n",
    "# cv2.destroyAllWindows()"
   ]
  },
  {
   "cell_type": "code",
   "execution_count": null,
   "metadata": {},
   "outputs": [],
   "source": []
  }
 ],
 "metadata": {
  "kernelspec": {
   "display_name": "Python 3",
   "language": "python",
   "name": "python3"
  },
  "language_info": {
   "codemirror_mode": {
    "name": "ipython",
    "version": 3
   },
   "file_extension": ".py",
   "mimetype": "text/x-python",
   "name": "python",
   "nbconvert_exporter": "python",
   "pygments_lexer": "ipython3",
   "version": "3.9.6"
  }
 },
 "nbformat": 4,
 "nbformat_minor": 2
}
